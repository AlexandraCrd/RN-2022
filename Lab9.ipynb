{
  "nbformat": 4,
  "nbformat_minor": 0,
  "metadata": {
    "colab": {
      "provenance": [],
      "authorship_tag": "ABX9TyN4KBjaWTjqUW+UqwE4wcC7",
      "include_colab_link": true
    },
    "kernelspec": {
      "name": "python3",
      "display_name": "Python 3"
    },
    "language_info": {
      "name": "python"
    },
    "accelerator": "GPU",
    "gpuClass": "standard"
  },
  "cells": [
    {
      "cell_type": "markdown",
      "metadata": {
        "id": "view-in-github",
        "colab_type": "text"
      },
      "source": [
        "<a href=\"https://colab.research.google.com/github/AlexandraCrd/RN-2022/blob/main/Lab9.ipynb\" target=\"_parent\"><img src=\"https://colab.research.google.com/assets/colab-badge.svg\" alt=\"Open In Colab\"/></a>"
      ]
    },
    {
      "cell_type": "code",
      "execution_count": 100,
      "metadata": {
        "colab": {
          "base_uri": "https://localhost:8080/"
        },
        "id": "PkAvg8g3RX3w",
        "outputId": "8d7ba198-fd88-48ed-eea7-478343b3e330"
      },
      "outputs": [
        {
          "output_type": "stream",
          "name": "stdout",
          "text": [
            "[[1 2 3]\n",
            " [4 5 6]]\n",
            "2\n"
          ]
        }
      ],
      "source": [
        "import numpy as np\n",
        "x=np.array([[1,2,3],[4,5,6]])\n",
        "print(x)\n",
        "print(x.ndim)"
      ]
    },
    {
      "cell_type": "code",
      "source": [
        "from keras.datasets import mnist\n",
        "(train,train_labels), (test, test_labels) = mnist.load_data()\n",
        "print(train.shape)\n",
        "print(test.shape)"
      ],
      "metadata": {
        "colab": {
          "base_uri": "https://localhost:8080/"
        },
        "id": "PFf5Sle_S9zL",
        "outputId": "c00e246e-9ef4-4d0d-d420-695b698a32a1"
      },
      "execution_count": 101,
      "outputs": [
        {
          "output_type": "stream",
          "name": "stdout",
          "text": [
            "(60000, 28, 28)\n",
            "(10000, 28, 28)\n"
          ]
        }
      ]
    },
    {
      "cell_type": "code",
      "source": [
        "batch = train[:128]\n",
        "batch.shape"
      ],
      "metadata": {
        "colab": {
          "base_uri": "https://localhost:8080/"
        },
        "id": "3t5-FAoMTwVx",
        "outputId": "22aa6857-0508-4618-87aa-128e949ada55"
      },
      "execution_count": 102,
      "outputs": [
        {
          "output_type": "execute_result",
          "data": {
            "text/plain": [
              "(128, 28, 28)"
            ]
          },
          "metadata": {},
          "execution_count": 102
        }
      ]
    },
    {
      "cell_type": "code",
      "source": [
        "batch = train[:128,: ,: ]\n",
        "batch.shape"
      ],
      "metadata": {
        "colab": {
          "base_uri": "https://localhost:8080/"
        },
        "id": "mx8Hj3FuUt4U",
        "outputId": "b9bea8d2-0773-487b-e2a6-47f3000d1349"
      },
      "execution_count": 103,
      "outputs": [
        {
          "output_type": "execute_result",
          "data": {
            "text/plain": [
              "(128, 28, 28)"
            ]
          },
          "metadata": {},
          "execution_count": 103
        }
      ]
    },
    {
      "cell_type": "code",
      "source": [
        "all((train[:128,: ,: ] == train[:128]).reshape(-1))"
      ],
      "metadata": {
        "colab": {
          "base_uri": "https://localhost:8080/"
        },
        "id": "WE_7WLuVVMir",
        "outputId": "66381c7a-d090-475b-cb6d-d80853777d7e"
      },
      "execution_count": 104,
      "outputs": [
        {
          "output_type": "execute_result",
          "data": {
            "text/plain": [
              "True"
            ]
          },
          "metadata": {},
          "execution_count": 104
        }
      ]
    },
    {
      "cell_type": "code",
      "source": [
        "#sigmoid cu cros entropie binara - 2 clase\n",
        "#2 neuroni output plus softmax categoriala - multiclase\n",
        "#regresie mse\n",
        "#iteratie = parcurgere a unei instante dintr-o epoca"
      ],
      "metadata": {
        "id": "kfHljQTiW3Mp"
      },
      "execution_count": 105,
      "outputs": []
    },
    {
      "cell_type": "code",
      "source": [
        "import keras\n",
        "from keras.datasets import mnist"
      ],
      "metadata": {
        "id": "QECAbhDFbaxy"
      },
      "execution_count": 106,
      "outputs": []
    },
    {
      "cell_type": "code",
      "source": [
        "(train_images, train_labels), (test_images, test_labels) = mnist.load_data()\n",
        "#print the shapes of the training dataset. Just for checking.\n",
        "train_images.shape, train_labels.shape"
      ],
      "metadata": {
        "colab": {
          "base_uri": "https://localhost:8080/"
        },
        "id": "5B70Y8eebhCR",
        "outputId": "618b576f-a5ec-4a46-eb96-88bd5007e970"
      },
      "execution_count": 107,
      "outputs": [
        {
          "output_type": "execute_result",
          "data": {
            "text/plain": [
              "((60000, 28, 28), (60000,))"
            ]
          },
          "metadata": {},
          "execution_count": 107
        }
      ]
    },
    {
      "cell_type": "code",
      "source": [
        "from keras import models\n",
        "from keras import layers"
      ],
      "metadata": {
        "id": "b3BTYnFTcDty"
      },
      "execution_count": 108,
      "outputs": []
    },
    {
      "cell_type": "code",
      "source": [
        "network = models.Sequential()\n",
        "network.add(layers.Dropout(0.5,input_shape=(28*28,) ))\n",
        "network.add(layers.Dense(512, activation='relu' ))\n",
        "network.add(layers.Dropout(0.5 ))\n",
        "network.add(layers.Dense(10, activation='softmax'))"
      ],
      "metadata": {
        "id": "NYrhErDNcFWM"
      },
      "execution_count": 109,
      "outputs": []
    },
    {
      "cell_type": "code",
      "source": [
        "network.summary()"
      ],
      "metadata": {
        "colab": {
          "base_uri": "https://localhost:8080/"
        },
        "id": "de8PDNbqcJGp",
        "outputId": "b597e357-13f1-47e0-aba8-4e41068b8b9f"
      },
      "execution_count": 110,
      "outputs": [
        {
          "output_type": "stream",
          "name": "stdout",
          "text": [
            "Model: \"sequential_6\"\n",
            "_________________________________________________________________\n",
            " Layer (type)                Output Shape              Param #   \n",
            "=================================================================\n",
            " dropout_2 (Dropout)         (None, 784)               0         \n",
            "                                                                 \n",
            " dense_12 (Dense)            (None, 512)               401920    \n",
            "                                                                 \n",
            " dropout_3 (Dropout)         (None, 512)               0         \n",
            "                                                                 \n",
            " dense_13 (Dense)            (None, 10)                5130      \n",
            "                                                                 \n",
            "=================================================================\n",
            "Total params: 407,050\n",
            "Trainable params: 407,050\n",
            "Non-trainable params: 0\n",
            "_________________________________________________________________\n"
          ]
        }
      ]
    },
    {
      "cell_type": "code",
      "source": [
        "network.compile(optimizer='rmsprop',\n",
        "loss='categorical_crossentropy',\n",
        "metrics=['accuracy'])"
      ],
      "metadata": {
        "id": "fSxsFg7mce9Q"
      },
      "execution_count": 111,
      "outputs": []
    },
    {
      "cell_type": "code",
      "source": [
        "from keras.utils import to_categorical\n",
        "\n",
        "train_images = train_images.reshape((60000, 28*28))\n",
        "train_images = train_images.astype('float32')/255\n",
        "\n",
        "test_images = test_images.reshape((10000,28*28)) #flatten pe ultimele 2 dim\n",
        "test_images = test_images.astype('float32')/255\n",
        "\n",
        "train_labels = to_categorical(train_labels) #nu e bn la nivel de batch ca se uita la toate datele ca sa isi dea seama cate clase sunt\n",
        "test_labels = to_categorical(test_labels)"
      ],
      "metadata": {
        "id": "EfQaWPXScxMz"
      },
      "execution_count": 112,
      "outputs": []
    },
    {
      "cell_type": "code",
      "source": [
        "train_labels.shape, train_labels.shape"
      ],
      "metadata": {
        "colab": {
          "base_uri": "https://localhost:8080/"
        },
        "id": "xTXKnzzIdlfM",
        "outputId": "b25bbf75-cda9-4e64-ef5e-3bb9b0b1ef1a"
      },
      "execution_count": 113,
      "outputs": [
        {
          "output_type": "execute_result",
          "data": {
            "text/plain": [
              "((60000, 10), (60000, 10))"
            ]
          },
          "metadata": {},
          "execution_count": 113
        }
      ]
    },
    {
      "cell_type": "code",
      "source": [
        "history = network.fit(train_images, train_labels,\n",
        "  validation_data=(test_images, test_labels),\n",
        "  epochs=10,\n",
        "  batch_size=128)"
      ],
      "metadata": {
        "colab": {
          "base_uri": "https://localhost:8080/"
        },
        "id": "tIg-n9b3dpMv",
        "outputId": "3f8987e2-4f63-49fb-a6d7-4dc7f4386a9d"
      },
      "execution_count": 114,
      "outputs": [
        {
          "output_type": "stream",
          "name": "stdout",
          "text": [
            "Epoch 1/10\n",
            "469/469 [==============================] - 3s 5ms/step - loss: 0.5126 - accuracy: 0.8390 - val_loss: 0.1869 - val_accuracy: 0.9459\n",
            "Epoch 2/10\n",
            "469/469 [==============================] - 2s 4ms/step - loss: 0.2993 - accuracy: 0.9084 - val_loss: 0.1439 - val_accuracy: 0.9556\n",
            "Epoch 3/10\n",
            "469/469 [==============================] - 2s 4ms/step - loss: 0.2500 - accuracy: 0.9237 - val_loss: 0.1176 - val_accuracy: 0.9641\n",
            "Epoch 4/10\n",
            "469/469 [==============================] - 2s 4ms/step - loss: 0.2248 - accuracy: 0.9319 - val_loss: 0.1046 - val_accuracy: 0.9688\n",
            "Epoch 5/10\n",
            "469/469 [==============================] - 2s 4ms/step - loss: 0.2070 - accuracy: 0.9367 - val_loss: 0.0973 - val_accuracy: 0.9703\n",
            "Epoch 6/10\n",
            "469/469 [==============================] - 2s 4ms/step - loss: 0.1954 - accuracy: 0.9413 - val_loss: 0.0925 - val_accuracy: 0.9733\n",
            "Epoch 7/10\n",
            "469/469 [==============================] - 2s 4ms/step - loss: 0.1928 - accuracy: 0.9428 - val_loss: 0.0885 - val_accuracy: 0.9743\n",
            "Epoch 8/10\n",
            "469/469 [==============================] - 2s 4ms/step - loss: 0.1805 - accuracy: 0.9467 - val_loss: 0.0892 - val_accuracy: 0.9740\n",
            "Epoch 9/10\n",
            "469/469 [==============================] - 2s 4ms/step - loss: 0.1826 - accuracy: 0.9462 - val_loss: 0.0868 - val_accuracy: 0.9742\n",
            "Epoch 10/10\n",
            "469/469 [==============================] - 2s 4ms/step - loss: 0.1754 - accuracy: 0.9494 - val_loss: 0.0832 - val_accuracy: 0.9766\n"
          ]
        }
      ]
    },
    {
      "cell_type": "code",
      "source": [
        "history.history"
      ],
      "metadata": {
        "colab": {
          "base_uri": "https://localhost:8080/"
        },
        "id": "6TYDkzege1db",
        "outputId": "b6b50628-9844-4d6d-f1af-23d7680d8bb9"
      },
      "execution_count": 115,
      "outputs": [
        {
          "output_type": "execute_result",
          "data": {
            "text/plain": [
              "{'loss': [0.5125985145568848,\n",
              "  0.29926738142967224,\n",
              "  0.24995377659797668,\n",
              "  0.22477063536643982,\n",
              "  0.2070472538471222,\n",
              "  0.19542764127254486,\n",
              "  0.19283971190452576,\n",
              "  0.18049880862236023,\n",
              "  0.18258219957351685,\n",
              "  0.17539353668689728],\n",
              " 'accuracy': [0.8390166759490967,\n",
              "  0.9084333181381226,\n",
              "  0.9236999750137329,\n",
              "  0.9318666458129883,\n",
              "  0.9367333054542542,\n",
              "  0.941349983215332,\n",
              "  0.9428166747093201,\n",
              "  0.9466666579246521,\n",
              "  0.9461833238601685,\n",
              "  0.9494333267211914],\n",
              " 'val_loss': [0.18690864741802216,\n",
              "  0.14386186003684998,\n",
              "  0.11759184300899506,\n",
              "  0.104611337184906,\n",
              "  0.09732920676469803,\n",
              "  0.09254618734121323,\n",
              "  0.08851157128810883,\n",
              "  0.08919697254896164,\n",
              "  0.08679217100143433,\n",
              "  0.0832398533821106],\n",
              " 'val_accuracy': [0.945900022983551,\n",
              "  0.9556000232696533,\n",
              "  0.9641000032424927,\n",
              "  0.9688000082969666,\n",
              "  0.970300018787384,\n",
              "  0.9732999801635742,\n",
              "  0.9743000268936157,\n",
              "  0.9739999771118164,\n",
              "  0.9742000102996826,\n",
              "  0.9765999913215637]}"
            ]
          },
          "metadata": {},
          "execution_count": 115
        }
      ]
    },
    {
      "cell_type": "code",
      "source": [
        "%matplotlib inline\n",
        "import matplotlib.pyplot as plt\n",
        "acc = history.history['accuracy']\n",
        "val_acc = history.history['val_accuracy']\n",
        "loss = history.history['loss']\n",
        "val_loss = history.history['val_loss']\n",
        "\n",
        "epochs = range(1, len(acc)+1)\n",
        "plt.plot(epochs, acc, 'bo', label='Training accuracy')\n",
        "plt.plot(epochs, val_acc, 'b', label='Validation accuracy')\n",
        "plt.title('Validation and training accuracy')\n",
        "plt.legend()\n",
        "\n",
        "plt.figure()\n",
        "\n",
        "plt.plot(epochs, loss, 'bo', label='Training loss')\n",
        "plt.plot(epochs, val_loss, 'b', label='Validation loss')\n",
        "plt.title('Training and validation loss')\n",
        "plt.legend()\n",
        "plt.show()"
      ],
      "metadata": {
        "colab": {
          "base_uri": "https://localhost:8080/",
          "height": 545
        },
        "id": "kWEIKEc8e7H1",
        "outputId": "f41bc8d1-f4fa-4a37-9630-448c75aea91f"
      },
      "execution_count": 116,
      "outputs": [
        {
          "output_type": "display_data",
          "data": {
            "text/plain": [
              "<Figure size 432x288 with 1 Axes>"
            ],
            "image/png": "[encoded data removed]"
          },
          "metadata": {
            "needs_background": "light"
          }
        },
        {
          "output_type": "display_data",
          "data": {
            "text/plain": [
              "<Figure size 432x288 with 1 Axes>"
            ],
            "image/png": "[encoded data removed]"
          },
          "metadata": {
            "needs_background": "light"
          }
        }
      ]
    }
  ]
}